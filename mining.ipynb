{
  "nbformat": 4,
  "nbformat_minor": 0,
  "metadata": {
    "colab": {
      "name": "mining.ipynb",
      "provenance": [],
      "collapsed_sections": []
    },
    "kernelspec": {
      "name": "python3",
      "display_name": "Python 3"
    },
    "language_info": {
      "name": "python"
    }
  },
  "cells": [
    {
      "cell_type": "code",
      "metadata": {
        "id": "khqwqWo3IPCx"
      },
      "source": [
        "import numpy as np\n",
        "import pandas as pd\n",
        "from tqdm import tqdm\n",
        "\n",
        "from sklearn.metrics import accuracy_score\n",
        "from sklearn.metrics import precision_score\n",
        "\n",
        "from sklearn.metrics import confusion_matrix\n",
        "from sklearn.metrics import ConfusionMatrixDisplay\n",
        "\n",
        "from sklearn.ensemble import RandomForestClassifier"
      ],
      "execution_count": null,
      "outputs": []
    },
    {
      "cell_type": "code",
      "metadata": {
        "id": "YWVYeFEuJw8b"
      },
      "source": [
        "from keras.models  import Sequential\n",
        "from keras.layers import InputLayer, Dense"
      ],
      "execution_count": null,
      "outputs": []
    },
    {
      "cell_type": "code",
      "metadata": {
        "id": "EVefItSXp7Ic"
      },
      "source": [
        "stats = ['max', 'mean', 'min', 'median']"
      ],
      "execution_count": null,
      "outputs": []
    },
    {
      "cell_type": "code",
      "metadata": {
        "id": "mXl_oFL4qPRG"
      },
      "source": [
        "x_train = []\n",
        "x_test = []\n",
        "for i in stats:\n",
        "    x_train.append(pd.read_csv(i + '_x_train.csv'))\n",
        "    x_test.append(pd.read_csv(i + '_x_test.csv'))"
      ],
      "execution_count": null,
      "outputs": []
    },
    {
      "cell_type": "code",
      "metadata": {
        "colab": {
          "base_uri": "https://localhost:8080/"
        },
        "id": "bV5dvs5G6iEW",
        "outputId": "b057a77f-6902-4465-8df6-69bb9b7b152a"
      },
      "source": [
        "x_train[0].shape"
      ],
      "execution_count": null,
      "outputs": [
        {
          "output_type": "execute_result",
          "data": {
            "text/plain": [
              "(50000, 35)"
            ]
          },
          "metadata": {},
          "execution_count": 86
        }
      ]
    },
    {
      "cell_type": "code",
      "metadata": {
        "id": "RNrcQRuaJ0eZ"
      },
      "source": [
        "y_train = pd.read_csv('y_train.csv')\n",
        "\n",
        "y_test  = pd.read_csv('y_test.csv')\n",
        "\n",
        "y_train = np.ravel(y_train)"
      ],
      "execution_count": null,
      "outputs": []
    },
    {
      "cell_type": "markdown",
      "metadata": {
        "id": "TQjVn4wBJ8P9"
      },
      "source": [
        "### Criação e Treinamento da Random Forest"
      ]
    },
    {
      "cell_type": "code",
      "metadata": {
        "id": "zDkomGJAxvjE"
      },
      "source": [
        "def forest(data_x_train, data_y_train, data_x_test, data_y_test):\n",
        "\n",
        "    rfc = RandomForestClassifier(n_estimators = 100, max_features = 10)\n",
        "    cf = rfc.fit(data_x_train, data_y_train)\n",
        "    \n",
        "    y_predicted = cf.predict(data_x_test)\n",
        "\n",
        "    acc_score = accuracy_score(data_y_test, y_predicted)\n",
        "    \n",
        "    return cf, acc_score"
      ],
      "execution_count": null,
      "outputs": []
    },
    {
      "cell_type": "code",
      "metadata": {
        "colab": {
          "base_uri": "https://localhost:8080/"
        },
        "id": "wAbQ8rcYzN_v",
        "outputId": "b3ce7632-bb8d-4a0d-a387-a74c9643e850"
      },
      "source": [
        "florestas = [0]*4\n",
        "f_acc_score = [0]*4\n",
        "\n",
        "for i in tqdm(range(4)):\n",
        "    florestas[i], f_acc_score[i] = forest(x_train[i], y_train, x_test[i], y_test)"
      ],
      "execution_count": null,
      "outputs": [
        {
          "output_type": "stream",
          "name": "stderr",
          "text": [
            "100%|██████████| 4/4 [01:21<00:00, 20.28s/it]\n"
          ]
        }
      ]
    },
    {
      "cell_type": "markdown",
      "metadata": {
        "id": "rEi_FZa1J2zr"
      },
      "source": [
        "### Acurácia da Random Forest"
      ]
    },
    {
      "cell_type": "code",
      "metadata": {
        "colab": {
          "base_uri": "https://localhost:8080/"
        },
        "id": "QdPI7UNi3h11",
        "outputId": "65b3bf98-4341-48f0-c328-7f7ef9fe745c"
      },
      "source": [
        "for i in range(4):\n",
        "  print(f\"{stats[i]}: {f_acc_score[i]}\")"
      ],
      "execution_count": null,
      "outputs": [
        {
          "output_type": "stream",
          "name": "stdout",
          "text": [
            "max: 0.9700645666210135\n",
            "mean: 0.9694775973390726\n",
            "min: 0.8994325963607904\n",
            "median: 0.9577382117002543\n"
          ]
        }
      ]
    },
    {
      "cell_type": "markdown",
      "metadata": {
        "id": "MZ3lc50bJybl"
      },
      "source": [
        "### Matrix de Confusção para as Random Forest"
      ]
    },
    {
      "cell_type": "code",
      "metadata": {
        "id": "HlCT2_BjH7M-"
      },
      "source": [
        "def matrixConfusion(model, data_x_test, data_y_test):\n",
        "    y_pred = model.predict(data_x_test)\n",
        "    \n",
        "    cm = confusion_matrix(data_y_test, y_pred)\n",
        "    tn, fp, fn, tp = cm.ravel()\n",
        "\n",
        "    cm_display = ConfusionMatrixDisplay(cm, display_labels = model.classes_).plot()\n",
        "\n",
        "    print(f\"True Neg: {tn}, False Pos: {fp}, False Neg: {fn}, True Pos: {tp}\")\n",
        "    #The precision is the ratio tp / (tp + fp) \n",
        "    print(f\"Precision: {tp / (tp + fp)}\")\n",
        "    print(f\"Accuracy: {(tp + tn) / 5111}\")"
      ],
      "execution_count": null,
      "outputs": []
    },
    {
      "cell_type": "code",
      "metadata": {
        "colab": {
          "base_uri": "https://localhost:8080/",
          "height": 334
        },
        "id": "aoTngXIPIgrm",
        "outputId": "59412514-65b3-4709-a71a-e9846bbc256d"
      },
      "source": [
        "matrixConfusion(florestas[0], x_test[0], y_test)"
      ],
      "execution_count": null,
      "outputs": [
        {
          "output_type": "stream",
          "name": "stdout",
          "text": [
            "True Neg: 2688, False Pos: 98, False Neg: 55, True Pos: 2270\n",
            "Precision: 0.9586148648648649\n",
            "Accuracy: 0.9700645666210135\n"
          ]
        },
        {
          "output_type": "display_data",
          "data": {
            "image/png": "[encoded data removed]",
            "text/plain": [
              "<Figure size 432x288 with 2 Axes>"
            ]
          },
          "metadata": {
            "needs_background": "light"
          }
        }
      ]
    },
    {
      "cell_type": "code",
      "metadata": {
        "colab": {
          "base_uri": "https://localhost:8080/",
          "height": 334
        },
        "id": "7-4M4rx2It5t",
        "outputId": "6d0dd631-647d-4c46-9b5f-ed3a4dc85318"
      },
      "source": [
        "matrixConfusion(florestas[1], x_test[1], y_test)"
      ],
      "execution_count": null,
      "outputs": [
        {
          "output_type": "stream",
          "name": "stdout",
          "text": [
            "True Neg: 2691, False Pos: 95, False Neg: 61, True Pos: 2264\n",
            "Precision: 0.9597286986011022\n",
            "Accuracy: 0.9694775973390726\n"
          ]
        },
        {
          "output_type": "display_data",
          "data": {
            "image/png": "[encoded data removed]",
            "text/plain": [
              "<Figure size 432x288 with 2 Axes>"
            ]
          },
          "metadata": {
            "needs_background": "light"
          }
        }
      ]
    },
    {
      "cell_type": "code",
      "metadata": {
        "colab": {
          "base_uri": "https://localhost:8080/",
          "height": 336
        },
        "id": "bZ4iu0cPIuNJ",
        "outputId": "f35ad6ee-86cf-4f24-993b-5e55708f4ba4"
      },
      "source": [
        "matrixConfusion(florestas[2], x_test[2], y_test)"
      ],
      "execution_count": null,
      "outputs": [
        {
          "output_type": "stream",
          "name": "stdout",
          "text": [
            "True Neg: 2519, False Pos: 267, False Neg: 247, True Pos: 2078\n",
            "Precision: 0.886140724946695\n",
            "Accuracy: 0.8994325963607904\n"
          ]
        },
        {
          "output_type": "display_data",
          "data": {
            "image/png": "[encoded data removed]",
            "text/plain": [
              "<Figure size 432x288 with 2 Axes>"
            ]
          },
          "metadata": {
            "needs_background": "light"
          }
        }
      ]
    },
    {
      "cell_type": "code",
      "metadata": {
        "colab": {
          "base_uri": "https://localhost:8080/",
          "height": 334
        },
        "id": "k2Wa4f1KIuZj",
        "outputId": "ef73d7e0-69c9-4ed1-a01c-10fcc4911f7d"
      },
      "source": [
        "matrixConfusion(florestas[3], x_test[3], y_test)"
      ],
      "execution_count": null,
      "outputs": [
        {
          "output_type": "stream",
          "name": "stdout",
          "text": [
            "True Neg: 2649, False Pos: 137, False Neg: 79, True Pos: 2246\n",
            "Precision: 0.9425094418799832\n",
            "Accuracy: 0.9577382117002543\n"
          ]
        },
        {
          "output_type": "display_data",
          "data": {
            "image/png": "[encoded data removed]",
            "text/plain": [
              "<Figure size 432x288 with 2 Axes>"
            ]
          },
          "metadata": {
            "needs_background": "light"
          }
        }
      ]
    },
    {
      "cell_type": "markdown",
      "metadata": {
        "id": "GrBijYCkJqrH"
      },
      "source": [
        "## Criação e Treinamento da MLP"
      ]
    },
    {
      "cell_type": "code",
      "metadata": {
        "id": "UQxwkCXm663u"
      },
      "source": [
        "def machine(data_x_train, data_y_train):\n",
        "    mlp = Sequential([                  \n",
        "        InputLayer(35),\n",
        "        Dense(24, activation = \"relu\"),\n",
        "        Dense(1, activation = \"sigmoid\")\n",
        "    ])\n",
        "\n",
        "    mlp.compile(optimizer=\"adam\", loss=\"binary_crossentropy\")\n",
        "\n",
        "    log = mlp.fit(data_x_train, data_y_train, batch_size = 64, epochs = 50)\n",
        "\n",
        "    return mlp, log"
      ],
      "execution_count": null,
      "outputs": []
    },
    {
      "cell_type": "code",
      "metadata": {
        "colab": {
          "base_uri": "https://localhost:8080/"
        },
        "id": "OgRnqyz17ZFZ",
        "outputId": "6f09488f-6b3c-4b15-80fa-5e084e2993df"
      },
      "source": [
        "rede = [0] * 4\n",
        "Logs = [0] * 4\n",
        "\n",
        "for i in tqdm(range(4)):\n",
        "   rede[i], Logs[i] = machine(x_train[i], y_train)"
      ],
      "execution_count": null,
      "outputs": [
        {
          "output_type": "stream",
          "name": "stderr",
          "text": [
            "\r  0%|          | 0/4 [00:00<?, ?it/s]"
          ]
        },
        {
          "output_type": "stream",
          "name": "stdout",
          "text": [
            "Epoch 1/50\n",
            "782/782 [==============================] - 2s 1ms/step - loss: 0.2985\n",
            "Epoch 2/50\n",
            "782/782 [==============================] - 1s 1ms/step - loss: 0.1949\n",
            "Epoch 3/50\n",
            "782/782 [==============================] - 1s 1ms/step - loss: 0.1854\n",
            "Epoch 4/50\n",
            "782/782 [==============================] - 1s 1ms/step - loss: 0.1799\n",
            "Epoch 5/50\n",
            "782/782 [==============================] - 1s 1ms/step - loss: 0.1756\n",
            "Epoch 6/50\n",
            "782/782 [==============================] - 1s 1ms/step - loss: 0.1716\n",
            "Epoch 7/50\n",
            "782/782 [==============================] - 1s 1ms/step - loss: 0.1679\n",
            "Epoch 8/50\n",
            "782/782 [==============================] - 1s 1ms/step - loss: 0.1644\n",
            "Epoch 9/50\n",
            "782/782 [==============================] - 1s 1ms/step - loss: 0.1617\n",
            "Epoch 10/50\n",
            "782/782 [==============================] - 1s 1ms/step - loss: 0.1585\n",
            "Epoch 11/50\n",
            "782/782 [==============================] - 1s 1ms/step - loss: 0.1558\n",
            "Epoch 12/50\n",
            "782/782 [==============================] - 1s 1ms/step - loss: 0.1535\n",
            "Epoch 13/50\n",
            "782/782 [==============================] - 1s 1ms/step - loss: 0.1513\n",
            "Epoch 14/50\n",
            "782/782 [==============================] - 1s 1ms/step - loss: 0.1494\n",
            "Epoch 15/50\n",
            "782/782 [==============================] - 1s 1ms/step - loss: 0.1472\n",
            "Epoch 16/50\n",
            "782/782 [==============================] - 1s 1ms/step - loss: 0.1460\n",
            "Epoch 17/50\n",
            "782/782 [==============================] - 1s 1ms/step - loss: 0.1441\n",
            "Epoch 18/50\n",
            "782/782 [==============================] - 1s 1ms/step - loss: 0.1427\n",
            "Epoch 19/50\n",
            "782/782 [==============================] - 1s 1ms/step - loss: 0.1421\n",
            "Epoch 20/50\n",
            "782/782 [==============================] - 1s 1ms/step - loss: 0.1404\n",
            "Epoch 21/50\n",
            "782/782 [==============================] - 1s 1ms/step - loss: 0.1397\n",
            "Epoch 22/50\n",
            "782/782 [==============================] - 1s 1ms/step - loss: 0.1383\n",
            "Epoch 23/50\n",
            "782/782 [==============================] - 1s 1ms/step - loss: 0.1379\n",
            "Epoch 24/50\n",
            "782/782 [==============================] - 1s 1ms/step - loss: 0.1365\n",
            "Epoch 25/50\n",
            "782/782 [==============================] - 1s 1ms/step - loss: 0.1355\n",
            "Epoch 26/50\n",
            "782/782 [==============================] - 1s 1ms/step - loss: 0.1353\n",
            "Epoch 27/50\n",
            "782/782 [==============================] - 1s 1ms/step - loss: 0.1343\n",
            "Epoch 28/50\n",
            "782/782 [==============================] - 1s 1ms/step - loss: 0.1333\n",
            "Epoch 29/50\n",
            "782/782 [==============================] - 1s 1ms/step - loss: 0.1328\n",
            "Epoch 30/50\n",
            "782/782 [==============================] - 1s 1ms/step - loss: 0.1322\n",
            "Epoch 31/50\n",
            "782/782 [==============================] - 1s 1ms/step - loss: 0.1317\n",
            "Epoch 32/50\n",
            "782/782 [==============================] - 1s 1ms/step - loss: 0.1312\n",
            "Epoch 33/50\n",
            "782/782 [==============================] - 1s 1ms/step - loss: 0.1305\n",
            "Epoch 34/50\n",
            "782/782 [==============================] - 1s 1ms/step - loss: 0.1299\n",
            "Epoch 35/50\n",
            "782/782 [==============================] - 1s 1ms/step - loss: 0.1295\n",
            "Epoch 36/50\n",
            "782/782 [==============================] - 1s 1ms/step - loss: 0.1289\n",
            "Epoch 37/50\n",
            "782/782 [==============================] - 1s 1ms/step - loss: 0.1284\n",
            "Epoch 38/50\n",
            "782/782 [==============================] - 1s 1ms/step - loss: 0.1282\n",
            "Epoch 39/50\n",
            "782/782 [==============================] - 1s 1ms/step - loss: 0.1278\n",
            "Epoch 40/50\n",
            "782/782 [==============================] - 1s 1ms/step - loss: 0.1278\n",
            "Epoch 41/50\n",
            "782/782 [==============================] - 1s 1ms/step - loss: 0.1267\n",
            "Epoch 42/50\n",
            "782/782 [==============================] - 1s 1ms/step - loss: 0.1268\n",
            "Epoch 43/50\n",
            "782/782 [==============================] - 1s 1ms/step - loss: 0.1260\n",
            "Epoch 44/50\n",
            "782/782 [==============================] - 1s 1ms/step - loss: 0.1258\n",
            "Epoch 45/50\n",
            "782/782 [==============================] - 1s 1ms/step - loss: 0.1259\n",
            "Epoch 46/50\n",
            "782/782 [==============================] - 1s 1ms/step - loss: 0.1256\n",
            "Epoch 47/50\n",
            "782/782 [==============================] - 1s 1ms/step - loss: 0.1251\n",
            "Epoch 48/50\n",
            "782/782 [==============================] - 1s 1ms/step - loss: 0.1248\n",
            "Epoch 49/50\n",
            "782/782 [==============================] - 1s 1ms/step - loss: 0.1247\n",
            "Epoch 50/50\n",
            "782/782 [==============================] - 1s 1ms/step - loss: 0.1243\n"
          ]
        },
        {
          "output_type": "stream",
          "name": "stderr",
          "text": [
            "\r 25%|██▌       | 1/4 [01:22<04:07, 82.45s/it]"
          ]
        },
        {
          "output_type": "stream",
          "name": "stdout",
          "text": [
            "Epoch 1/50\n",
            "782/782 [==============================] - 2s 2ms/step - loss: 0.3528\n",
            "Epoch 2/50\n",
            "782/782 [==============================] - 1s 1ms/step - loss: 0.2633\n",
            "Epoch 3/50\n",
            "782/782 [==============================] - 1s 1ms/step - loss: 0.2512\n",
            "Epoch 4/50\n",
            "782/782 [==============================] - 1s 1ms/step - loss: 0.2426\n",
            "Epoch 5/50\n",
            "782/782 [==============================] - 1s 1ms/step - loss: 0.2360\n",
            "Epoch 6/50\n",
            "782/782 [==============================] - 1s 1ms/step - loss: 0.2310\n",
            "Epoch 7/50\n",
            "782/782 [==============================] - 1s 1ms/step - loss: 0.2269\n",
            "Epoch 8/50\n",
            "782/782 [==============================] - 1s 1ms/step - loss: 0.2234\n",
            "Epoch 9/50\n",
            "782/782 [==============================] - 1s 1ms/step - loss: 0.2207\n",
            "Epoch 10/50\n",
            "782/782 [==============================] - 1s 1ms/step - loss: 0.2183\n",
            "Epoch 11/50\n",
            "782/782 [==============================] - 1s 1ms/step - loss: 0.2161\n",
            "Epoch 12/50\n",
            "782/782 [==============================] - 1s 1ms/step - loss: 0.2141\n",
            "Epoch 13/50\n",
            "782/782 [==============================] - 1s 1ms/step - loss: 0.2124\n",
            "Epoch 14/50\n",
            "782/782 [==============================] - 1s 1ms/step - loss: 0.2103\n",
            "Epoch 15/50\n",
            "782/782 [==============================] - 1s 1ms/step - loss: 0.2089\n",
            "Epoch 16/50\n",
            "782/782 [==============================] - 1s 1ms/step - loss: 0.2075\n",
            "Epoch 17/50\n",
            "782/782 [==============================] - 1s 1ms/step - loss: 0.2062\n",
            "Epoch 18/50\n",
            "782/782 [==============================] - 1s 1ms/step - loss: 0.2045\n",
            "Epoch 19/50\n",
            "782/782 [==============================] - 1s 1ms/step - loss: 0.2033\n",
            "Epoch 20/50\n",
            "782/782 [==============================] - 1s 1ms/step - loss: 0.2008\n",
            "Epoch 21/50\n",
            "782/782 [==============================] - 1s 1ms/step - loss: 0.1988\n",
            "Epoch 22/50\n",
            "782/782 [==============================] - 1s 1ms/step - loss: 0.1970\n",
            "Epoch 23/50\n",
            "782/782 [==============================] - 1s 1ms/step - loss: 0.1954\n",
            "Epoch 24/50\n",
            "782/782 [==============================] - 1s 1ms/step - loss: 0.1935\n",
            "Epoch 25/50\n",
            "782/782 [==============================] - 1s 1ms/step - loss: 0.1919\n",
            "Epoch 26/50\n",
            "782/782 [==============================] - 1s 1ms/step - loss: 0.1903\n",
            "Epoch 27/50\n",
            "782/782 [==============================] - 1s 1ms/step - loss: 0.1890\n",
            "Epoch 28/50\n",
            "782/782 [==============================] - 1s 1ms/step - loss: 0.1872\n",
            "Epoch 29/50\n",
            "782/782 [==============================] - 1s 1ms/step - loss: 0.1858\n",
            "Epoch 30/50\n",
            "782/782 [==============================] - 1s 1ms/step - loss: 0.1841\n",
            "Epoch 31/50\n",
            "782/782 [==============================] - 1s 1ms/step - loss: 0.1830\n",
            "Epoch 32/50\n",
            "782/782 [==============================] - 1s 1ms/step - loss: 0.1813\n",
            "Epoch 33/50\n",
            "782/782 [==============================] - 1s 1ms/step - loss: 0.1797\n",
            "Epoch 34/50\n",
            "782/782 [==============================] - 1s 1ms/step - loss: 0.1788\n",
            "Epoch 35/50\n",
            "782/782 [==============================] - 1s 1ms/step - loss: 0.1772\n",
            "Epoch 36/50\n",
            "782/782 [==============================] - 1s 1ms/step - loss: 0.1762\n",
            "Epoch 37/50\n",
            "782/782 [==============================] - 1s 1ms/step - loss: 0.1748\n",
            "Epoch 38/50\n",
            "782/782 [==============================] - 1s 1ms/step - loss: 0.1737\n",
            "Epoch 39/50\n",
            "782/782 [==============================] - 1s 1ms/step - loss: 0.1727\n",
            "Epoch 40/50\n",
            "782/782 [==============================] - 1s 1ms/step - loss: 0.1713\n",
            "Epoch 41/50\n",
            "782/782 [==============================] - 1s 1ms/step - loss: 0.1707\n",
            "Epoch 42/50\n",
            "782/782 [==============================] - 1s 1ms/step - loss: 0.1697\n",
            "Epoch 43/50\n",
            "782/782 [==============================] - 1s 1ms/step - loss: 0.1684\n",
            "Epoch 44/50\n",
            "782/782 [==============================] - 1s 1ms/step - loss: 0.1677\n",
            "Epoch 45/50\n",
            "782/782 [==============================] - 1s 1ms/step - loss: 0.1668\n",
            "Epoch 46/50\n",
            "782/782 [==============================] - 1s 1ms/step - loss: 0.1660\n",
            "Epoch 47/50\n",
            "782/782 [==============================] - 1s 1ms/step - loss: 0.1651\n",
            "Epoch 48/50\n",
            "782/782 [==============================] - 1s 1ms/step - loss: 0.1643\n",
            "Epoch 49/50\n",
            "782/782 [==============================] - 1s 1ms/step - loss: 0.1635\n",
            "Epoch 50/50\n",
            "782/782 [==============================] - 1s 1ms/step - loss: 0.1625\n"
          ]
        },
        {
          "output_type": "stream",
          "name": "stderr",
          "text": [
            "\r 50%|█████     | 2/4 [02:19<02:14, 67.26s/it]"
          ]
        },
        {
          "output_type": "stream",
          "name": "stdout",
          "text": [
            "Epoch 1/50\n",
            "782/782 [==============================] - 1s 1ms/step - loss: 0.4259\n",
            "Epoch 2/50\n",
            "782/782 [==============================] - 1s 1ms/step - loss: 0.3888\n",
            "Epoch 3/50\n",
            "782/782 [==============================] - 1s 1ms/step - loss: 0.3758\n",
            "Epoch 4/50\n",
            "782/782 [==============================] - 1s 1ms/step - loss: 0.3650\n",
            "Epoch 5/50\n",
            "782/782 [==============================] - 1s 1ms/step - loss: 0.3545\n",
            "Epoch 6/50\n",
            "782/782 [==============================] - 1s 1ms/step - loss: 0.3441\n",
            "Epoch 7/50\n",
            "782/782 [==============================] - 1s 1ms/step - loss: 0.3331\n",
            "Epoch 8/50\n",
            "782/782 [==============================] - 1s 1ms/step - loss: 0.3219\n",
            "Epoch 9/50\n",
            "782/782 [==============================] - 1s 1ms/step - loss: 0.3112\n",
            "Epoch 10/50\n",
            "782/782 [==============================] - 1s 1ms/step - loss: 0.3017\n",
            "Epoch 11/50\n",
            "782/782 [==============================] - 1s 1ms/step - loss: 0.2938\n",
            "Epoch 12/50\n",
            "782/782 [==============================] - 1s 1ms/step - loss: 0.2870\n",
            "Epoch 13/50\n",
            "782/782 [==============================] - 1s 1ms/step - loss: 0.2814\n",
            "Epoch 14/50\n",
            "782/782 [==============================] - 1s 1ms/step - loss: 0.2768\n",
            "Epoch 15/50\n",
            "782/782 [==============================] - 1s 1ms/step - loss: 0.2733\n",
            "Epoch 16/50\n",
            "782/782 [==============================] - 1s 1ms/step - loss: 0.2697\n",
            "Epoch 17/50\n",
            "782/782 [==============================] - 1s 1ms/step - loss: 0.2671\n",
            "Epoch 18/50\n",
            "782/782 [==============================] - 1s 1ms/step - loss: 0.2648\n",
            "Epoch 19/50\n",
            "782/782 [==============================] - 1s 1ms/step - loss: 0.2627\n",
            "Epoch 20/50\n",
            "782/782 [==============================] - 1s 1ms/step - loss: 0.2606\n",
            "Epoch 21/50\n",
            "782/782 [==============================] - 1s 1ms/step - loss: 0.2593\n",
            "Epoch 22/50\n",
            "782/782 [==============================] - 1s 1ms/step - loss: 0.2580\n",
            "Epoch 23/50\n",
            "782/782 [==============================] - 1s 1ms/step - loss: 0.2563\n",
            "Epoch 24/50\n",
            "782/782 [==============================] - 1s 1ms/step - loss: 0.2552\n",
            "Epoch 25/50\n",
            "782/782 [==============================] - 1s 1ms/step - loss: 0.2541\n",
            "Epoch 26/50\n",
            "782/782 [==============================] - 1s 1ms/step - loss: 0.2533\n",
            "Epoch 27/50\n",
            "782/782 [==============================] - 1s 1ms/step - loss: 0.2524\n",
            "Epoch 28/50\n",
            "782/782 [==============================] - 1s 1ms/step - loss: 0.2515\n",
            "Epoch 29/50\n",
            "782/782 [==============================] - 1s 1ms/step - loss: 0.2508\n",
            "Epoch 30/50\n",
            "782/782 [==============================] - 1s 1ms/step - loss: 0.2504\n",
            "Epoch 31/50\n",
            "782/782 [==============================] - 1s 1ms/step - loss: 0.2494\n",
            "Epoch 32/50\n",
            "782/782 [==============================] - 1s 1ms/step - loss: 0.2490\n",
            "Epoch 33/50\n",
            "782/782 [==============================] - 1s 1ms/step - loss: 0.2485\n",
            "Epoch 34/50\n",
            "782/782 [==============================] - 1s 1ms/step - loss: 0.2481\n",
            "Epoch 35/50\n",
            "782/782 [==============================] - 1s 1ms/step - loss: 0.2476\n",
            "Epoch 36/50\n",
            "782/782 [==============================] - 1s 1ms/step - loss: 0.2475\n",
            "Epoch 37/50\n",
            "782/782 [==============================] - 1s 1ms/step - loss: 0.2471\n",
            "Epoch 38/50\n",
            "782/782 [==============================] - 1s 1ms/step - loss: 0.2467\n",
            "Epoch 39/50\n",
            "782/782 [==============================] - 1s 1ms/step - loss: 0.2462\n",
            "Epoch 40/50\n",
            "782/782 [==============================] - 1s 1ms/step - loss: 0.2461\n",
            "Epoch 41/50\n",
            "782/782 [==============================] - 1s 1ms/step - loss: 0.2456\n",
            "Epoch 42/50\n",
            "782/782 [==============================] - 1s 1ms/step - loss: 0.2453\n",
            "Epoch 43/50\n",
            "782/782 [==============================] - 1s 1ms/step - loss: 0.2451\n",
            "Epoch 44/50\n",
            "782/782 [==============================] - 1s 1ms/step - loss: 0.2448\n",
            "Epoch 45/50\n",
            "782/782 [==============================] - 1s 1ms/step - loss: 0.2447\n",
            "Epoch 46/50\n",
            "782/782 [==============================] - 1s 1ms/step - loss: 0.2442\n",
            "Epoch 47/50\n",
            "782/782 [==============================] - 1s 1ms/step - loss: 0.2443\n",
            "Epoch 48/50\n",
            "782/782 [==============================] - 1s 1ms/step - loss: 0.2438\n",
            "Epoch 49/50\n",
            "782/782 [==============================] - 1s 1ms/step - loss: 0.2435\n",
            "Epoch 50/50\n",
            "782/782 [==============================] - 1s 1ms/step - loss: 0.2435\n"
          ]
        },
        {
          "output_type": "stream",
          "name": "stderr",
          "text": [
            "\r 75%|███████▌  | 3/4 [03:41<01:14, 74.18s/it]"
          ]
        },
        {
          "output_type": "stream",
          "name": "stdout",
          "text": [
            "Epoch 1/50\n",
            "782/782 [==============================] - 1s 1ms/step - loss: 0.3597\n",
            "Epoch 2/50\n",
            "782/782 [==============================] - 1s 1ms/step - loss: 0.2818\n",
            "Epoch 3/50\n",
            "782/782 [==============================] - 1s 1ms/step - loss: 0.2764\n",
            "Epoch 4/50\n",
            "782/782 [==============================] - 1s 1ms/step - loss: 0.2718\n",
            "Epoch 5/50\n",
            "782/782 [==============================] - 1s 1ms/step - loss: 0.2663\n",
            "Epoch 6/50\n",
            "782/782 [==============================] - 1s 1ms/step - loss: 0.2604\n",
            "Epoch 7/50\n",
            "782/782 [==============================] - 1s 1ms/step - loss: 0.2545\n",
            "Epoch 8/50\n",
            "782/782 [==============================] - 1s 1ms/step - loss: 0.2496\n",
            "Epoch 9/50\n",
            "782/782 [==============================] - 1s 1ms/step - loss: 0.2451\n",
            "Epoch 10/50\n",
            "782/782 [==============================] - 1s 1ms/step - loss: 0.2426\n",
            "Epoch 11/50\n",
            "782/782 [==============================] - 1s 1ms/step - loss: 0.2403\n",
            "Epoch 12/50\n",
            "782/782 [==============================] - 1s 1ms/step - loss: 0.2386\n",
            "Epoch 13/50\n",
            "782/782 [==============================] - 1s 1ms/step - loss: 0.2368\n",
            "Epoch 14/50\n",
            "782/782 [==============================] - 1s 1ms/step - loss: 0.2355\n",
            "Epoch 15/50\n",
            "782/782 [==============================] - 1s 2ms/step - loss: 0.2339\n",
            "Epoch 16/50\n",
            "782/782 [==============================] - 1s 1ms/step - loss: 0.2325\n",
            "Epoch 17/50\n",
            "782/782 [==============================] - 1s 1ms/step - loss: 0.2311\n",
            "Epoch 18/50\n",
            "782/782 [==============================] - 1s 1ms/step - loss: 0.2299\n",
            "Epoch 19/50\n",
            "782/782 [==============================] - 1s 1ms/step - loss: 0.2282\n",
            "Epoch 20/50\n",
            "782/782 [==============================] - 1s 1ms/step - loss: 0.2270\n",
            "Epoch 21/50\n",
            "782/782 [==============================] - 1s 1ms/step - loss: 0.2255\n",
            "Epoch 22/50\n",
            "782/782 [==============================] - 1s 2ms/step - loss: 0.2245\n",
            "Epoch 23/50\n",
            "782/782 [==============================] - 1s 1ms/step - loss: 0.2231\n",
            "Epoch 24/50\n",
            "782/782 [==============================] - 1s 1ms/step - loss: 0.2218\n",
            "Epoch 25/50\n",
            "782/782 [==============================] - 1s 2ms/step - loss: 0.2206\n",
            "Epoch 26/50\n",
            "782/782 [==============================] - 1s 2ms/step - loss: 0.2197\n",
            "Epoch 27/50\n",
            "782/782 [==============================] - 1s 1ms/step - loss: 0.2182\n",
            "Epoch 28/50\n",
            "782/782 [==============================] - 1s 1ms/step - loss: 0.2170\n",
            "Epoch 29/50\n",
            "782/782 [==============================] - 1s 2ms/step - loss: 0.2161\n",
            "Epoch 30/50\n",
            "782/782 [==============================] - 1s 1ms/step - loss: 0.2148\n",
            "Epoch 31/50\n",
            "782/782 [==============================] - 1s 2ms/step - loss: 0.2142\n",
            "Epoch 32/50\n",
            "782/782 [==============================] - 1s 1ms/step - loss: 0.2135\n",
            "Epoch 33/50\n",
            "782/782 [==============================] - 1s 1ms/step - loss: 0.2122\n",
            "Epoch 34/50\n",
            "782/782 [==============================] - 1s 1ms/step - loss: 0.2114\n",
            "Epoch 35/50\n",
            "782/782 [==============================] - 1s 1ms/step - loss: 0.2106\n",
            "Epoch 36/50\n",
            "782/782 [==============================] - 1s 1ms/step - loss: 0.2100\n",
            "Epoch 37/50\n",
            "782/782 [==============================] - 1s 1ms/step - loss: 0.2092\n",
            "Epoch 38/50\n",
            "782/782 [==============================] - 1s 2ms/step - loss: 0.2085\n",
            "Epoch 39/50\n",
            "782/782 [==============================] - 1s 1ms/step - loss: 0.2074\n",
            "Epoch 40/50\n",
            "782/782 [==============================] - 1s 1ms/step - loss: 0.2067\n",
            "Epoch 41/50\n",
            "782/782 [==============================] - 1s 2ms/step - loss: 0.2061\n",
            "Epoch 42/50\n",
            "782/782 [==============================] - 1s 1ms/step - loss: 0.2053\n",
            "Epoch 43/50\n",
            "782/782 [==============================] - 1s 1ms/step - loss: 0.2048\n",
            "Epoch 44/50\n",
            "782/782 [==============================] - 1s 1ms/step - loss: 0.2039\n",
            "Epoch 45/50\n",
            "782/782 [==============================] - 1s 1ms/step - loss: 0.2036\n",
            "Epoch 46/50\n",
            "782/782 [==============================] - 1s 1ms/step - loss: 0.2030\n",
            "Epoch 47/50\n",
            "782/782 [==============================] - 1s 1ms/step - loss: 0.2026\n",
            "Epoch 48/50\n",
            "782/782 [==============================] - 1s 1ms/step - loss: 0.2018\n",
            "Epoch 49/50\n",
            "782/782 [==============================] - 1s 1ms/step - loss: 0.2016\n",
            "Epoch 50/50\n",
            "782/782 [==============================] - 1s 1ms/step - loss: 0.2011\n"
          ]
        },
        {
          "output_type": "stream",
          "name": "stderr",
          "text": [
            "100%|██████████| 4/4 [05:03<00:00, 75.97s/it]\n"
          ]
        }
      ]
    },
    {
      "cell_type": "code",
      "metadata": {
        "id": "fvMzU9a0J7JQ",
        "colab": {
          "base_uri": "https://localhost:8080/"
        },
        "outputId": "12f1a523-69bd-425b-e35f-8072bc2cf207"
      },
      "source": [
        "rede[0].summary()"
      ],
      "execution_count": null,
      "outputs": [
        {
          "output_type": "stream",
          "name": "stdout",
          "text": [
            "Model: \"sequential_2\"\n",
            "_________________________________________________________________\n",
            "Layer (type)                 Output Shape              Param #   \n",
            "=================================================================\n",
            "dense_4 (Dense)              (None, 24)                864       \n",
            "_________________________________________________________________\n",
            "dense_5 (Dense)              (None, 1)                 25        \n",
            "=================================================================\n",
            "Total params: 889\n",
            "Trainable params: 889\n",
            "Non-trainable params: 0\n",
            "_________________________________________________________________\n"
          ]
        }
      ]
    },
    {
      "cell_type": "markdown",
      "metadata": {
        "id": "zkJHtkRzJhrb"
      },
      "source": [
        "### Gráfico de Erro do Treinamento da MLP"
      ]
    },
    {
      "cell_type": "code",
      "metadata": {
        "colab": {
          "base_uri": "https://localhost:8080/",
          "height": 265
        },
        "id": "pKxgjud1l5So",
        "outputId": "b25c1a4c-edf8-45cb-a789-ff5abf8496d8"
      },
      "source": [
        "import matplotlib.pyplot as plt\n",
        "\n",
        "fig, ax = plt.subplots()\n",
        "ax.plot(Logs[0].history[\"loss\"], 'r', marker = '.', label = \"Training Error Max\")\n",
        "ax.plot(Logs[1].history[\"loss\"], 'b', marker = '.', label = \"Training Error Mean\")\n",
        "ax.plot(Logs[2].history[\"loss\"], 'g', marker = '.', label = \"Training Error Min\")\n",
        "ax.plot(Logs[3].history[\"loss\"], 'y', marker = '.', label = \"Training Error Median\")\n",
        "ax.legend();"
      ],
      "execution_count": null,
      "outputs": [
        {
          "output_type": "display_data",
          "data": {
            "image/png": "[encoded data removed]",
            "text/plain": [
              "<Figure size 432x288 with 1 Axes>"
            ]
          },
          "metadata": {
            "needs_background": "light"
          }
        }
      ]
    },
    {
      "cell_type": "code",
      "metadata": {
        "id": "ucIBTzF0ARjh"
      },
      "source": [
        "y_predicteds = []\n",
        "\n",
        "for i in range(4):\n",
        "    y_predicteds.append( rede[i].predict(x_test[i]) )"
      ],
      "execution_count": null,
      "outputs": []
    },
    {
      "cell_type": "code",
      "metadata": {
        "id": "hDLRMxmDA9dq"
      },
      "source": [
        "y_predicts = []\n",
        "\n",
        "for i in range(4):\n",
        "    y_predicts.append( (y_predicteds[i] > 0.5).astype(\"int32\") )"
      ],
      "execution_count": null,
      "outputs": []
    },
    {
      "cell_type": "markdown",
      "metadata": {
        "id": "Nl58CjBKJbI2"
      },
      "source": [
        "### Acurácia da MLP"
      ]
    },
    {
      "cell_type": "code",
      "metadata": {
        "id": "mvZdrgKgwjkr",
        "colab": {
          "base_uri": "https://localhost:8080/"
        },
        "outputId": "b1d6c3e7-0067-40a7-d4eb-6bb8ec349119"
      },
      "source": [
        "for i in range(4):\n",
        "    print( f\"{stats[i]}: {accuracy_score(y_test, y_predicts[i])}\" )"
      ],
      "execution_count": null,
      "outputs": [
        {
          "output_type": "stream",
          "name": "stdout",
          "text": [
            "max: 0.9522598317354725\n",
            "mean: 0.9182156133828996\n",
            "min: 0.8863236157307768\n",
            "median: 0.8992369399334769\n"
          ]
        }
      ]
    },
    {
      "cell_type": "markdown",
      "metadata": {
        "id": "PMGBsdcmJXdS"
      },
      "source": [
        "### Precisao da MLP"
      ]
    },
    {
      "cell_type": "code",
      "metadata": {
        "colab": {
          "base_uri": "https://localhost:8080/"
        },
        "id": "Ee06uu4SCaJP",
        "outputId": "071bbb4e-b68f-41e9-cf06-a5d0bc536f05"
      },
      "source": [
        "for i in range(4):\n",
        "    print(f\"{stats[i]}: {precision_score(y_test, y_predicts[i])}\" )"
      ],
      "execution_count": null,
      "outputs": [
        {
          "output_type": "stream",
          "name": "stdout",
          "text": [
            "max: 0.9330004161464835\n",
            "mean: 0.8731898238747554\n",
            "min: 0.8454833597464342\n",
            "median: 0.8588421887390959\n"
          ]
        }
      ]
    },
    {
      "cell_type": "code",
      "metadata": {
        "id": "s5IQIKPpCaYQ"
      },
      "source": [
        ""
      ],
      "execution_count": null,
      "outputs": []
    },
    {
      "cell_type": "code",
      "metadata": {
        "id": "rK_NEueoCafd"
      },
      "source": [
        ""
      ],
      "execution_count": null,
      "outputs": []
    },
    {
      "cell_type": "code",
      "metadata": {
        "id": "oCGQfCwGCajC"
      },
      "source": [
        ""
      ],
      "execution_count": null,
      "outputs": []
    },
    {
      "cell_type": "code",
      "metadata": {
        "id": "HGyQ32m8Cams"
      },
      "source": [
        ""
      ],
      "execution_count": null,
      "outputs": []
    },
    {
      "cell_type": "code",
      "metadata": {
        "id": "boEp1hAiCaq-"
      },
      "source": [
        ""
      ],
      "execution_count": null,
      "outputs": []
    },
    {
      "cell_type": "code",
      "metadata": {
        "id": "Bx7M2eO9Caus"
      },
      "source": [
        ""
      ],
      "execution_count": null,
      "outputs": []
    },
    {
      "cell_type": "code",
      "metadata": {
        "id": "ofWGbnh1Cayd"
      },
      "source": [
        "np.all(np.isfinite( x_train[3] ))\n",
        "\n",
        "np.any(np.isnan( x_train[3] ))"
      ],
      "execution_count": null,
      "outputs": []
    }
  ]
}